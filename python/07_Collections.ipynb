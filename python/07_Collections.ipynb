{
 "cells": [
  {
   "cell_type": "markdown",
   "metadata": {},
   "source": [
    "## 1. Word Order"
   ]
  },
  {
   "cell_type": "code",
   "execution_count": 21,
   "metadata": {},
   "outputs": [
    {
     "name": "stdout",
     "output_type": "stream",
     "text": [
      "4\n",
      "abcdefg\n",
      "bcdef\n",
      "bcde\n",
      "bcdef\n",
      "3\n",
      "1 2 1 "
     ]
    }
   ],
   "source": [
    "n = int(input())\n",
    "counter = {}\n",
    "\n",
    "for i in range(n):\n",
    "    word_list.append(input())\n",
    "\n",
    "for word in word_list:\n",
    "    if word not in counter:\n",
    "        counter[word] = 0\n",
    "    counter[word] += 1\n",
    "\n",
    "print(len(counter))\n",
    "for i in list(counter.values()):\n",
    "    print(i, end=\" \")"
   ]
  },
  {
   "cell_type": "code",
   "execution_count": null,
   "metadata": {
    "collapsed": true
   },
   "outputs": [],
   "source": [
    "collection 모듈에 orderedlist vs dictionary 차이"
   ]
  }
 ],
 "metadata": {
  "kernelspec": {
   "display_name": "Python 3",
   "language": "python",
   "name": "python3"
  },
  "language_info": {
   "codemirror_mode": {
    "name": "ipython",
    "version": 3
   },
   "file_extension": ".py",
   "mimetype": "text/x-python",
   "name": "python",
   "nbconvert_exporter": "python",
   "pygments_lexer": "ipython3",
   "version": "3.6.1"
  }
 },
 "nbformat": 4,
 "nbformat_minor": 2
}
