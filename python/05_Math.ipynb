{
 "cells": [
  {
   "cell_type": "markdown",
   "metadata": {},
   "source": [
    "## 02. Find Angle MBC"
   ]
  },
  {
   "cell_type": "code",
   "execution_count": 28,
   "metadata": {},
   "outputs": [
    {
     "name": "stdout",
     "output_type": "stream",
     "text": [
      "10\n",
      "10\n",
      "45°\n"
     ]
    }
   ],
   "source": [
    "import math\n",
    "\n",
    "first_line = int(input())\n",
    "second_line = int(input())\n",
    "\n",
    "a = (0, first_line)\n",
    "b = (0, 0)\n",
    "c = (second_line, 0)\n",
    "m = ((second_line-b[0])/2,(first_line-b[1])/2)\n",
    "angle1 = (math.atan2(c[1] - b[1], c[0] - b[0]) - math.atan2(m[1] - b[1], m[0] - b[0]))\n",
    "\n",
    "if angle1 < 0:\n",
    "    angle1 = - angle1\n",
    "    \n",
    "angle1 = int(round(math.degrees(angle1)))\n",
    "print(str(angle1)+'°')"
   ]
  }
 ],
 "metadata": {
  "kernelspec": {
   "display_name": "Python 3",
   "language": "python",
   "name": "python3"
  },
  "language_info": {
   "codemirror_mode": {
    "name": "ipython",
    "version": 3
   },
   "file_extension": ".py",
   "mimetype": "text/x-python",
   "name": "python",
   "nbconvert_exporter": "python",
   "pygments_lexer": "ipython3",
   "version": "3.6.1"
  }
 },
 "nbformat": 4,
 "nbformat_minor": 2
}
