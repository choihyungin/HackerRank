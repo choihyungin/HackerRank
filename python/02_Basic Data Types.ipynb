{
 "cells": [
  {
   "cell_type": "markdown",
   "metadata": {},
   "source": [
    "## 1. List Comprehensions"
   ]
  },
  {
   "cell_type": "code",
   "execution_count": 2,
   "metadata": {},
   "outputs": [
    {
     "name": "stdout",
     "output_type": "stream",
     "text": [
      "1\n",
      "1\n",
      "1\n",
      "2\n",
      "[[0, 0, 0], [0, 0, 1], [0, 1, 0], [1, 0, 0], [1, 1, 1]]\n"
     ]
    }
   ],
   "source": [
    "x = int(input())\n",
    "y = int(input())\n",
    "z = int(input())\n",
    "n = int(input())\n",
    "\n",
    "result = [[i, j, k] for i in range(x+1) for j in range(y+1) for k in range(z+1) if (i+j+k) != n]\n",
    "print(result)"
   ]
  },
  {
   "cell_type": "markdown",
   "metadata": {},
   "source": [
    "## 2. Find the Runner-Up Score!"
   ]
  },
  {
   "cell_type": "code",
   "execution_count": 10,
   "metadata": {},
   "outputs": [
    {
     "name": "stdout",
     "output_type": "stream",
     "text": [
      "5\n",
      "2 3 6 6 5\n",
      "5\n"
     ]
    }
   ],
   "source": [
    "n = int(input())\n",
    "arr=list(map(int, input().split()))\n",
    "\n",
    "arr.sort(reverse=True)\n",
    "for i in range(n):\n",
    "    if arr[i] != arr[0]:\n",
    "        print(arr[i])\n",
    "        break"
   ]
  },
  {
   "cell_type": "markdown",
   "metadata": {},
   "source": [
    "## 3. Nested Lists"
   ]
  },
  {
   "cell_type": "code",
   "execution_count": 11,
   "metadata": {},
   "outputs": [
    {
     "name": "stdout",
     "output_type": "stream",
     "text": [
      "5\n",
      "harry\n",
      "37.21\n",
      "berry\n",
      "37.21\n",
      "tina\n",
      "37.2\n",
      "akriti\n",
      "41\n",
      "harsh\n",
      "39\n",
      "<class 'list'>\n",
      "berry\n",
      "harry\n"
     ]
    }
   ],
   "source": [
    "n = int(input())\n",
    "scoreList= []\n",
    "scoreOnly = []\n",
    "\n",
    "for _ in range(n):\n",
    "    name = input()\n",
    "    score = float(input())\n",
    "    scoreList.append([name, score])\n",
    "    scoreOnly.append(score)\n",
    "    \n",
    "scoreList.sort() \n",
    "\n",
    "scoreOrdered = sorted(set(scoreOnly))\n",
    "\n",
    "for i in range(n):\n",
    "    if scoreList[i][1] == scoreOrdered[1]:\n",
    "        print(scoreList[i][0])"
   ]
  },
  {
   "cell_type": "markdown",
   "metadata": {},
   "source": [
    "## 4. Finding the percentage"
   ]
  },
  {
   "cell_type": "code",
   "execution_count": 22,
   "metadata": {},
   "outputs": [
    {
     "name": "stdout",
     "output_type": "stream",
     "text": [
      "2\n",
      "Harsh 25 26.5 28\n",
      "Anurag 26 28 30\n",
      "Harsh\n",
      "26.50\n"
     ]
    }
   ],
   "source": [
    "n = int(input())\n",
    "scoreDict = {}\n",
    "\n",
    "for i in range(n):\n",
    "    info = list(map(str, input().split()))\n",
    "    name = info[0]\n",
    "    score = info[1:]\n",
    "    scoreDict[name] = score\n",
    "    \n",
    "student_name = input()\n",
    "scoreList = scoreDict[student_name]\n",
    "\n",
    "total = 0\n",
    "for num in scoreList:\n",
    "    total += float(num)\n",
    "    result = total / len(scoreList)\n",
    "    \n",
    "print(\"%0.2f\" %result)"
   ]
  },
  {
   "cell_type": "markdown",
   "metadata": {},
   "source": [
    "## 5. Lists"
   ]
  },
  {
   "cell_type": "code",
   "execution_count": 25,
   "metadata": {},
   "outputs": [
    {
     "name": "stdout",
     "output_type": "stream",
     "text": [
      "12\n",
      "insert 0 5\n",
      "insert 1 10\n",
      "insert 0 6\n",
      "print\n",
      "remove 6\n",
      "append 99\n",
      "append 1\n",
      "sort\n",
      "print\n",
      "pop\n",
      "reverse\n",
      "print\n",
      "[6, 5, 10]\n",
      "[1, 5, 10, 99]\n",
      "[10, 5, 1]\n"
     ]
    }
   ],
   "source": [
    "n = int(input())\n",
    "\n",
    "test_list = []\n",
    "cmds = []\n",
    "\n",
    "for i in range(n):\n",
    "    cmds.append(list(map(str, input().split())))\n",
    "    # '10 5 5'를 input으로 받으면, 공백 단위로 split하여 ['10', '5', '5']로 저장\n",
    "    \n",
    "for cmd in cmds:\n",
    "    if cmd[0] == \"insert\":\n",
    "        test_list.insert(int(cmd[1]), int(cmd[2]))\n",
    "    elif cmd[0] == \"remove\": \n",
    "        test_list.remove(int(cmd[1]))\n",
    "    elif cmd[0] == \"append\":\n",
    "        test_list.append(int(cmd[1]))\n",
    "    elif cmd[0] == \"sort\":\n",
    "        test_list.sort()\n",
    "    elif cmd[0] == \"pop\":\n",
    "        test_list.pop()   \n",
    "    elif cmd[0] == \"reverse\":\n",
    "        test_list.reverse()\n",
    "    elif cmd[0] == \"print\":\n",
    "        print(test_list)"
   ]
  },
  {
   "cell_type": "markdown",
   "metadata": {},
   "source": [
    "## 6. Tuples"
   ]
  },
  {
   "cell_type": "code",
   "execution_count": 4,
   "metadata": {},
   "outputs": [
    {
     "name": "stdout",
     "output_type": "stream",
     "text": [
      "2\n",
      "1 2\n",
      "3713081631934410656\n"
     ]
    }
   ],
   "source": [
    "n = int(input())\n",
    "tuple_a = tuple(map(int, input().split()))\n",
    "print(hash(tuple_a))"
   ]
  }
 ],
 "metadata": {
  "kernelspec": {
   "display_name": "Python 3",
   "language": "python",
   "name": "python3"
  },
  "language_info": {
   "codemirror_mode": {
    "name": "ipython",
    "version": 3
   },
   "file_extension": ".py",
   "mimetype": "text/x-python",
   "name": "python",
   "nbconvert_exporter": "python",
   "pygments_lexer": "ipython3",
   "version": "3.6.1"
  }
 },
 "nbformat": 4,
 "nbformat_minor": 2
}
