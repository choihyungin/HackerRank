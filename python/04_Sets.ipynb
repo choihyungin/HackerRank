{
 "cells": [
  {
   "cell_type": "markdown",
   "metadata": {},
   "source": [
    "## 01. Introduction to Sets"
   ]
  },
  {
   "cell_type": "code",
   "execution_count": 26,
   "metadata": {},
   "outputs": [
    {
     "name": "stdout",
     "output_type": "stream",
     "text": [
      "169.375\n"
     ]
    }
   ],
   "source": [
    "# n = int(input())\n",
    "# height = set((map(int, input().split())))\n",
    "\n",
    "n = 10\n",
    "height = {161, 182, 161, 154, 176, 170, 167, 171, 170, 174}\n",
    "\n",
    "\n",
    "print(sum(height)/len(height))"
   ]
  },
  {
   "cell_type": "markdown",
   "metadata": {},
   "source": [
    "## 02. No Idea!"
   ]
  },
  {
   "cell_type": "code",
   "execution_count": 29,
   "metadata": {
    "scrolled": true
   },
   "outputs": [
    {
     "name": "stdout",
     "output_type": "stream",
     "text": [
      "1\n"
     ]
    }
   ],
   "source": [
    "# nm = list(map(int, input().split()))\n",
    "# ele = list(map(int, input().split()))\n",
    "# a = set(map(int, input().split()))\n",
    "# b = set(map(int, input().split()))\n",
    "\n",
    "nm = [3, 2]\n",
    "ele = [1, 5, 3]\n",
    "a = {1, 3}\n",
    "b = {5, 7}\n",
    "\n",
    "happiness = 0\n",
    "\n",
    "for i in ele:\n",
    "    if i in a:\n",
    "        happiness += 1\n",
    "    if i in b:\n",
    "        happiness -= 1\n",
    "print(happiness)"
   ]
  },
  {
   "cell_type": "markdown",
   "metadata": {},
   "source": [
    "## 03. Symmetric Difference"
   ]
  },
  {
   "cell_type": "code",
   "execution_count": 15,
   "metadata": {},
   "outputs": [
    {
     "name": "stdout",
     "output_type": "stream",
     "text": [
      "2\n",
      "8 -10\n",
      "3\n",
      "5 6 7\n",
      "-10\n",
      "5\n",
      "6\n",
      "7\n",
      "8\n"
     ]
    }
   ],
   "source": [
    "m = int(input())\n",
    "mset = set(map(int, input().split()))\n",
    "\n",
    "n = int(input())\n",
    "nset = set(map(int, input().split()))\n",
    "\n",
    "monly = list(mset.difference(nset))\n",
    "nonly = list(nset.difference(mset))\n",
    "mn = monly + nonly\n",
    "\n",
    "for i in sorted(mn):\n",
    "    print(i)"
   ]
  },
  {
   "cell_type": "markdown",
   "metadata": {},
   "source": [
    "## 04. Set .add()"
   ]
  },
  {
   "cell_type": "code",
   "execution_count": 3,
   "metadata": {},
   "outputs": [
    {
     "name": "stdout",
     "output_type": "stream",
     "text": [
      "7\n",
      "UK\n",
      "China\n",
      "USA\n",
      "France\n",
      "New Zealand\n",
      "UK\n",
      "France\n",
      "5\n"
     ]
    }
   ],
   "source": [
    "n = int(input())\n",
    "distinct = set()\n",
    "\n",
    "for i in range(n):\n",
    "    distinct.add(input())\n",
    "    \n",
    "print(len(distinct))"
   ]
  },
  {
   "cell_type": "markdown",
   "metadata": {},
   "source": [
    "## 05. Set .discard(), .remove() & .pop()"
   ]
  },
  {
   "cell_type": "code",
   "execution_count": 24,
   "metadata": {},
   "outputs": [
    {
     "name": "stdout",
     "output_type": "stream",
     "text": [
      "9\n",
      "1 2 3 4 5 6 7 8 9\n",
      "10\n",
      "pop\n",
      "remove 9\n",
      "discard 9\n",
      "discard 8\n",
      "remove 7\n",
      "pop\n",
      "discard 6\n",
      "remove 5\n",
      "pop\n",
      "discard 5\n",
      "1\n",
      "{4}\n"
     ]
    }
   ],
   "source": [
    "n = int(input())\n",
    "s = set(map(int, input().split()))\n",
    "N = int(input())\n",
    "\n",
    "for i in range(N):\n",
    "    a = input().split()\n",
    "    if len(a) > 1:\n",
    "        eval('s.%s(%d)' % (a[0], int(a[1])))\n",
    "    else:\n",
    "        eval('s.%s()' % a[0])\n",
    "\n",
    "print(sum(s))"
   ]
  },
  {
   "cell_type": "markdown",
   "metadata": {},
   "source": [
    "## 06. Set .union() Operation"
   ]
  },
  {
   "cell_type": "code",
   "execution_count": 11,
   "metadata": {},
   "outputs": [
    {
     "name": "stdout",
     "output_type": "stream",
     "text": [
      "13\n"
     ]
    }
   ],
   "source": [
    "# n = int(input())\n",
    "# setn = set(map(int, input().split()))\n",
    "# b = int(input())\n",
    "# setb = set(map(int, input().split()))\n",
    "\n",
    "n = 9\n",
    "setn = set([1, 2, 3, 4, 5, 6, 7, 8, 9])\n",
    "b = 9\n",
    "setb = set([10, 1, 2, 3, 11, 21, 55, 6, 8])\n",
    "\n",
    "union = setn.union(setb)\n",
    "\n",
    "print(len(union))"
   ]
  },
  {
   "cell_type": "markdown",
   "metadata": {},
   "source": [
    "## 07. Set .intersection() Operation"
   ]
  },
  {
   "cell_type": "code",
   "execution_count": 12,
   "metadata": {},
   "outputs": [
    {
     "name": "stdout",
     "output_type": "stream",
     "text": [
      "5\n"
     ]
    }
   ],
   "source": [
    "# n = int(input())\n",
    "# setn = set(map(int, input().split()))\n",
    "# b = int(input())\n",
    "# setb = set(map(int, input().split()))\n",
    "\n",
    "n = 9\n",
    "setn = set([1, 2, 3, 4, 5, 6, 7, 8, 9])\n",
    "b = 9\n",
    "setb = set([10, 1, 2, 3, 11, 21, 55, 6, 8])\n",
    "\n",
    "intersection = setn.intersection(setb)\n",
    "print(len(intersection))"
   ]
  },
  {
   "cell_type": "markdown",
   "metadata": {},
   "source": [
    "## 08. Set .difference() Operation"
   ]
  },
  {
   "cell_type": "code",
   "execution_count": 14,
   "metadata": {},
   "outputs": [
    {
     "name": "stdout",
     "output_type": "stream",
     "text": [
      "4\n"
     ]
    }
   ],
   "source": [
    "# n = int(input())\n",
    "# setn = set(map(int, input().split()))\n",
    "# b = int(input())\n",
    "# setb = set(map(int, input().split()))\n",
    "\n",
    "n = 9\n",
    "setn = set([1, 2, 3, 4, 5, 6, 7, 8, 9])\n",
    "b = 9\n",
    "setb = set([10, 1, 2, 3, 11, 21, 55, 6, 8])\n",
    "\n",
    "difference = setn.difference(setb)\n",
    "print(len(difference))"
   ]
  },
  {
   "cell_type": "markdown",
   "metadata": {},
   "source": [
    "## 09. Set .symmetric_difference() Operation"
   ]
  },
  {
   "cell_type": "code",
   "execution_count": 17,
   "metadata": {},
   "outputs": [
    {
     "name": "stdout",
     "output_type": "stream",
     "text": [
      "8\n"
     ]
    }
   ],
   "source": [
    "# n = int(input())\n",
    "# setn = set(map(int, input().split()))\n",
    "# b = int(input())\n",
    "# setb = set(map(int, input().split()))\n",
    "\n",
    "n = 9\n",
    "setn = set([1, 2, 3, 4, 5, 6, 7, 8, 9])\n",
    "b = 9\n",
    "setb = set([10, 1, 2, 3, 11, 21, 55, 6, 8])\n",
    "\n",
    "symm_diff = setn.symmetric_difference (setb)\n",
    "print(len(symm_diff))"
   ]
  },
  {
   "cell_type": "markdown",
   "metadata": {},
   "source": [
    "## 10. Set Mutations"
   ]
  },
  {
   "cell_type": "code",
   "execution_count": 55,
   "metadata": {},
   "outputs": [
    {
     "name": "stdout",
     "output_type": "stream",
     "text": [
      "16\n",
      "1 2 3 4 5 6 7 8 9 10 11 12 13 14 24 52\n",
      "4\n",
      "intersection_update 10\n",
      "2 3 5 6 8 9 1 4 7 11\n",
      "update 2\n",
      "55 66\n",
      "symmetric_difference_update 5\n",
      "22 7 35 62 58\n",
      "difference_update 7\n",
      "11 22 35 55 58 62 66\n",
      "38\n"
     ]
    }
   ],
   "source": [
    "a = int(input())\n",
    "seta = set(map(int, input().split()))\n",
    "\n",
    "n = int(input())\n",
    "for i in range(n):\n",
    "    operation, length = input().split()\n",
    "    setb = set(map(int, input().split()))\n",
    "    \n",
    "    if operation == 'intersection_update':\n",
    "        seta.intersection_update(setb)\n",
    "    elif operation == 'update':\n",
    "        seta.update(setb)\n",
    "    elif operation == 'symmetric_difference_update':\n",
    "        seta.symmetric_difference_update(setb)\n",
    "    elif operation == 'difference_update':\n",
    "        seta.difference_update(setb)\n",
    "    else:\n",
    "        break\n",
    "print(sum(seta))"
   ]
  },
  {
   "cell_type": "markdown",
   "metadata": {},
   "source": [
    "## 11. The Captain's Room"
   ]
  },
  {
   "cell_type": "code",
   "execution_count": null,
   "metadata": {},
   "outputs": [],
   "source": []
  }
 ],
 "metadata": {
  "kernelspec": {
   "display_name": "Python 3",
   "language": "python",
   "name": "python3"
  },
  "language_info": {
   "codemirror_mode": {
    "name": "ipython",
    "version": 3
   },
   "file_extension": ".py",
   "mimetype": "text/x-python",
   "name": "python",
   "nbconvert_exporter": "python",
   "pygments_lexer": "ipython3",
   "version": "3.7.4"
  }
 },
 "nbformat": 4,
 "nbformat_minor": 2
}
