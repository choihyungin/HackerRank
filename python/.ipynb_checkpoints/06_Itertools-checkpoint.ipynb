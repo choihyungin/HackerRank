{
 "cells": [
  {
   "cell_type": "markdown",
   "metadata": {},
   "source": [
    "## 01. itertools.product()"
   ]
  },
  {
   "cell_type": "code",
   "execution_count": 6,
   "metadata": {
    "collapsed": true
   },
   "outputs": [
    {
     "name": "stdout",
     "output_type": "stream",
     "text": [
      "1 2\n",
      "3 4\n",
      "(1, 3)(1, 4)(2, 3)(2, 4)"
     ]
    }
   ],
   "source": [
    "from itertools import product\n",
    "\n",
    "a = list(map(int, input().split()))\n",
    "b = list(map(int, input().split()))\n",
    "for i in product(a, b):\n",
    "    print(i, end = ' ')"
   ]
  },
  {
   "cell_type": "markdown",
   "metadata": {},
   "source": [
    "## 02. itertools.permutations()"
   ]
  },
  {
   "cell_type": "code",
   "execution_count": 24,
   "metadata": {
    "collapsed": true
   },
   "outputs": [
    {
     "name": "stdout",
     "output_type": "stream",
     "text": [
      "HACK 2\n",
      "AC\n",
      "AH\n",
      "AK\n",
      "CA\n",
      "CH\n",
      "CK\n",
      "HA\n",
      "HC\n",
      "HK\n",
      "KA\n",
      "KC\n",
      "KH\n"
     ]
    }
   ],
   "source": [
    "from itertools import permutations\n",
    "\n",
    "word, count = input()a.split()\n",
    "\n",
    "for a in sorted(permutations(word, int(count))):\n",
    "    print(''.join(a))"
   ]
  },
  {
   "cell_type": "markdown",
   "metadata": {},
   "source": [
    "## 03. itertools.combinations()"
   ]
  },
  {
   "cell_type": "code",
   "execution_count": 39,
   "metadata": {
    "collapsed": true
   },
   "outputs": [
    {
     "name": "stdout",
     "output_type": "stream",
     "text": [
      "SENDING 5\n",
      "D\n",
      "E\n",
      "G\n",
      "I\n",
      "N\n",
      "N\n",
      "S\n",
      "DE\n",
      "DG\n",
      "DI\n",
      "DN\n",
      "DN\n",
      "DS\n",
      "EG\n",
      "EI\n",
      "EN\n",
      "EN\n",
      "ES\n",
      "GI\n",
      "GN\n",
      "GN\n",
      "GS\n",
      "IN\n",
      "IN\n",
      "IS\n",
      "NN\n",
      "NS\n",
      "NS\n",
      "DEG\n",
      "DEI\n",
      "DEN\n",
      "DEN\n",
      "DES\n",
      "DGI\n",
      "DGN\n",
      "DGN\n",
      "DGS\n",
      "DIN\n",
      "DIN\n",
      "DIS\n",
      "DNN\n",
      "DNS\n",
      "DNS\n",
      "EGI\n",
      "EGN\n",
      "EGN\n",
      "EGS\n",
      "EIN\n",
      "EIN\n",
      "EIS\n",
      "ENN\n",
      "ENS\n",
      "ENS\n",
      "GIN\n",
      "GIN\n",
      "GIS\n",
      "GNN\n",
      "GNS\n",
      "GNS\n",
      "INN\n",
      "INS\n",
      "INS\n",
      "NNS\n",
      "DEGI\n",
      "DEGN\n",
      "DEGN\n",
      "DEGS\n",
      "DEIN\n",
      "DEIN\n",
      "DEIS\n",
      "DENN\n",
      "DENS\n",
      "DENS\n",
      "DGIN\n",
      "DGIN\n",
      "DGIS\n",
      "DGNN\n",
      "DGNS\n",
      "DGNS\n",
      "DINN\n",
      "DINS\n",
      "DINS\n",
      "DNNS\n",
      "EGIN\n",
      "EGIN\n",
      "EGIS\n",
      "EGNN\n",
      "EGNS\n",
      "EGNS\n",
      "EINN\n",
      "EINS\n",
      "EINS\n",
      "ENNS\n",
      "GINN\n",
      "GINS\n",
      "GINS\n",
      "GNNS\n",
      "INNS\n",
      "DEGIN\n",
      "DEGIN\n",
      "DEGIS\n",
      "DEGNN\n",
      "DEGNS\n",
      "DEGNS\n",
      "DEINN\n",
      "DEINS\n",
      "DEINS\n",
      "DENNS\n",
      "DGINN\n",
      "DGINS\n",
      "DGINS\n",
      "DGNNS\n",
      "DINNS\n",
      "EGINN\n",
      "EGINS\n",
      "EGINS\n",
      "EGNNS\n",
      "EINNS\n",
      "GINNS\n"
     ]
    }
   ],
   "source": [
    "from itertools import combinations\n",
    "word, count = input().split()\n",
    "\n",
    "for i in range(1, int(count)+1):\n",
    "    for j in combinations(sorted(word), i):\n",
    "        print(''.join(sorted(j)))"
   ]
  },
  {
   "cell_type": "markdown",
   "metadata": {},
   "source": [
    "## 04. itertools.combinations_with_replacement()"
   ]
  },
  {
   "cell_type": "code",
   "execution_count": 45,
   "metadata": {
    "collapsed": true
   },
   "outputs": [
    {
     "name": "stdout",
     "output_type": "stream",
     "text": [
      "HACK 2\n",
      "AA\n",
      "AC\n",
      "AH\n",
      "AK\n",
      "CC\n",
      "CH\n",
      "CK\n",
      "HH\n",
      "HK\n",
      "KK\n"
     ]
    }
   ],
   "source": [
    "from itertools import combinations_with_replacement\n",
    "word, count = input().split()\n",
    "\n",
    "for i in sorted(combinations_with_replacement(sorted(word), int(count))):\n",
    "    print(''.join(i))"
   ]
  },
  {
   "cell_type": "markdown",
   "metadata": {},
   "source": [
    "## 05. Comporess the String!"
   ]
  },
  {
   "cell_type": "code",
   "execution_count": 62,
   "metadata": {},
   "outputs": [
    {
     "name": "stdout",
     "output_type": "stream",
     "text": [
      "1222311\n",
      "(1, 1) (3, 2) (1, 3) (2, 1) "
     ]
    }
   ],
   "source": [
    "from itertools import groupby\n",
    "s = input()\n",
    "\n",
    "for num, cnt in groupby(s):\n",
    "    print((len(list(cnt)), int(num)), end = ' ')"
   ]
  }
 ],
 "metadata": {
  "kernelspec": {
   "display_name": "Python 3",
   "language": "python",
   "name": "python3"
  },
  "language_info": {
   "codemirror_mode": {
    "name": "ipython",
    "version": 3
   },
   "file_extension": ".py",
   "mimetype": "text/x-python",
   "name": "python",
   "nbconvert_exporter": "python",
   "pygments_lexer": "ipython3",
   "version": "3.7.4"
  }
 },
 "nbformat": 4,
 "nbformat_minor": 2
}
