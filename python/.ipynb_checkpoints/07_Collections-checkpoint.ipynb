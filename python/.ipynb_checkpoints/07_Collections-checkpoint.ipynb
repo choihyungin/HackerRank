{
 "cells": [
  {
   "cell_type": "markdown",
   "metadata": {},
   "source": [
    "## 1. Word Order"
   ]
  },
  {
   "cell_type": "code",
   "execution_count": 21,
   "metadata": {},
   "outputs": [
    {
     "name": "stdout",
     "output_type": "stream",
     "text": [
      "4\n",
      "abcdefg\n",
      "bcdef\n",
      "bcde\n",
      "bcdef\n",
      "3\n",
      "1 2 1 "
     ]
    }
   ],
   "source": [
    "n = int(input())\n",
    "counter = {}\n",
    "\n",
    "for i in range(n):\n",
    "    word_list.append(input())\n",
    "\n",
    "for word in word_list:\n",
    "    if word not in counter:\n",
    "        counter[word] = 0\n",
    "    counter[word] += 1\n",
    "\n",
    "print(len(counter))\n",
    "for i in list(counter.values()):\n",
    "    print(i, end=\" \")"
   ]
  },
  {
   "cell_type": "code",
   "execution_count": 27,
   "metadata": {},
   "outputs": [
    {
     "name": "stdout",
     "output_type": "stream",
     "text": [
      "10\n",
      "2 3 4 5 6 8 7 6 5 18\n",
      "6\n",
      "6 55\n",
      "6 45\n",
      "6 55\n",
      "4 40\n",
      "18 60\n",
      "10 50\n",
      "Counter({5: 2, 6: 2, 2: 1, 3: 1, 4: 1, 8: 1, 7: 1, 18: 1})\n"
     ]
    }
   ],
   "source": [
    "from collections import Counter\n",
    "\n",
    "shoes = int(input())\n",
    "size = Counter(list(map(int, input().split())))\n",
    "n = int(input())\n",
    "\n",
    "for i in range(n):\n",
    "    s, p = list(map(int, input().split()))\n",
    "    ss = size.get(s)\n",
    "    if s in size:\n",
    "        ss -= 1\n",
    "print(size)"
   ]
  },
  {
   "cell_type": "code",
   "execution_count": 21,
   "metadata": {},
   "outputs": [
    {
     "name": "stdout",
     "output_type": "stream",
     "text": [
      "Counter({3: 4, 1: 2, 2: 1, 4: 1})\n",
      "2\n"
     ]
    }
   ],
   "source": [
    "a = Counter([1, 1, 2, 3, 3, 3, 3, 4])\n",
    "print(a)\n",
    "\n",
    "print(a.get(1))"
   ]
  },
  {
   "cell_type": "code",
   "execution_count": null,
   "metadata": {},
   "outputs": [],
   "source": []
  },
  {
   "cell_type": "code",
   "execution_count": null,
   "metadata": {},
   "outputs": [],
   "source": []
  }
 ],
 "metadata": {
  "kernelspec": {
   "display_name": "Python 3",
   "language": "python",
   "name": "python3"
  },
  "language_info": {
   "codemirror_mode": {
    "name": "ipython",
    "version": 3
   },
   "file_extension": ".py",
   "mimetype": "text/x-python",
   "name": "python",
   "nbconvert_exporter": "python",
   "pygments_lexer": "ipython3",
   "version": "3.7.4"
  }
 },
 "nbformat": 4,
 "nbformat_minor": 2
}
