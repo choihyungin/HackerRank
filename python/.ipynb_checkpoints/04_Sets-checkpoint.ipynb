{
 "cells": [
  {
   "cell_type": "markdown",
   "metadata": {},
   "source": [
    "## 01. Introduction to Sets"
   ]
  },
  {
   "cell_type": "code",
   "execution_count": 26,
   "metadata": {},
   "outputs": [
    {
     "name": "stdout",
     "output_type": "stream",
     "text": [
      "169.375\n"
     ]
    }
   ],
   "source": [
    "# n = int(input())\n",
    "# height = set((map(int, input().split())))\n",
    "\n",
    "n = 10\n",
    "height = {161, 182, 161, 154, 176, 170, 167, 171, 170, 174}\n",
    "\n",
    "\n",
    "print(sum(height)/len(height))"
   ]
  },
  {
   "cell_type": "markdown",
   "metadata": {},
   "source": [
    "## 02. No Idea!"
   ]
  },
  {
   "cell_type": "code",
   "execution_count": 29,
   "metadata": {
    "scrolled": true
   },
   "outputs": [
    {
     "name": "stdout",
     "output_type": "stream",
     "text": [
      "1\n"
     ]
    }
   ],
   "source": [
    "# nm = list(map(int, input().split()))\n",
    "# ele = list(map(int, input().split()))\n",
    "# a = set(map(int, input().split()))\n",
    "# b = set(map(int, input().split()))\n",
    "\n",
    "nm = [3, 2]\n",
    "ele = [1, 5, 3]\n",
    "a = {1, 3}\n",
    "b = {5, 7}\n",
    "\n",
    "happiness = 0\n",
    "\n",
    "for i in ele:\n",
    "    if i in a:\n",
    "        happiness += 1\n",
    "    if i in b:\n",
    "        happiness -= 1\n",
    "print(happiness)"
   ]
  },
  {
   "cell_type": "markdown",
   "metadata": {},
   "source": [
    "## 03. Symmetric Difference"
   ]
  },
  {
   "cell_type": "code",
   "execution_count": 15,
   "metadata": {},
   "outputs": [
    {
     "name": "stdout",
     "output_type": "stream",
     "text": [
      "2\n",
      "8 -10\n",
      "3\n",
      "5 6 7\n",
      "-10\n",
      "5\n",
      "6\n",
      "7\n",
      "8\n"
     ]
    }
   ],
   "source": [
    "m = int(input())\n",
    "mset = set(map(int, input().split()))\n",
    "\n",
    "n = int(input())\n",
    "nset = set(map(int, input().split()))\n",
    "\n",
    "monly = list(mset.difference(nset))\n",
    "nonly = list(nset.difference(mset))\n",
    "mn = monly + nonly\n",
    "\n",
    "for i in sorted(mn):\n",
    "    print(i)"
   ]
  },
  {
   "cell_type": "markdown",
   "metadata": {},
   "source": [
    "## 04. Set .add()"
   ]
  },
  {
   "cell_type": "code",
   "execution_count": 3,
   "metadata": {},
   "outputs": [
    {
     "name": "stdout",
     "output_type": "stream",
     "text": [
      "7\n",
      "UK\n",
      "China\n",
      "USA\n",
      "France\n",
      "New Zealand\n",
      "UK\n",
      "France\n",
      "5\n"
     ]
    }
   ],
   "source": [
    "n = int(input())\n",
    "distinct = set()\n",
    "\n",
    "for i in range(n):\n",
    "    distinct.add(input())\n",
    "    \n",
    "print(len(distinct))"
   ]
  },
  {
   "cell_type": "markdown",
   "metadata": {},
   "source": [
    "## 05. Set .discard(), .remove() & .pop()"
   ]
  },
  {
   "cell_type": "code",
   "execution_count": 24,
   "metadata": {},
   "outputs": [
    {
     "name": "stdout",
     "output_type": "stream",
     "text": [
      "9\n",
      "1 2 3 4 5 6 7 8 9\n",
      "10\n",
      "pop\n",
      "remove 9\n",
      "discard 9\n",
      "discard 8\n",
      "remove 7\n",
      "pop\n",
      "discard 6\n",
      "remove 5\n",
      "pop\n",
      "discard 5\n",
      "1\n",
      "{4}\n"
     ]
    }
   ],
   "source": [
    "n = int(input())\n",
    "s = set(map(int, input().split()))\n",
    "N = int(input())\n",
    "\n",
    "for i in range(N):\n",
    "    a = input().split()\n",
    "    if len(a) > 1:\n",
    "        eval('s.%s(%d)' % (a[0], int(a[1])))\n",
    "    else:\n",
    "        eval('s.%s()' % a[0])\n",
    "\n",
    "print(sum(s))"
   ]
  },
  {
   "cell_type": "code",
   "execution_count": null,
   "metadata": {
    "collapsed": true
   },
   "outputs": [],
   "source": []
  }
 ],
 "metadata": {
  "kernelspec": {
   "display_name": "Python 3",
   "language": "python",
   "name": "python3"
  },
  "language_info": {
   "codemirror_mode": {
    "name": "ipython",
    "version": 3
   },
   "file_extension": ".py",
   "mimetype": "text/x-python",
   "name": "python",
   "nbconvert_exporter": "python",
   "pygments_lexer": "ipython3",
   "version": "3.6.1"
  }
 },
 "nbformat": 4,
 "nbformat_minor": 2
}
