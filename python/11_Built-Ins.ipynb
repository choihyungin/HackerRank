{
 "cells": [
  {
   "cell_type": "markdown",
   "metadata": {},
   "source": [
    "## 01. Zipped!"
   ]
  },
  {
   "cell_type": "code",
   "execution_count": 14,
   "metadata": {},
   "outputs": [
    {
     "name": "stdout",
     "output_type": "stream",
     "text": [
      "90.0\n",
      "91.0\n",
      "82.0\n",
      "90.0\n",
      "85.5\n"
     ]
    }
   ],
   "source": [
    "n = list(map(int, input().split()))\n",
    "subject = []\n",
    "\n",
    "for i in range(n[1]):\n",
    "    subject.append(input().split())\n",
    "\n",
    "sub_zip = list(zip(*subject))\n",
    "\n",
    "for sub in sub_zip:\n",
    "    avg = 0\n",
    "    for j in range(n[1]):\n",
    "        avg += float(sub[j])\n",
    "    print(avg / n[1])"
   ]
  },
  {
   "cell_type": "markdown",
   "metadata": {},
   "source": [
    "## 02. Input()"
   ]
  },
  {
   "cell_type": "code",
   "execution_count": 1,
   "metadata": {},
   "outputs": [
    {
     "name": "stdout",
     "output_type": "stream",
     "text": [
      "1 4\n",
      "x**3 + x**2 + x + 1\n",
      "True\n"
     ]
    }
   ],
   "source": [
    "n = list(map(int, input().split()))\n",
    "input_sent = input()\n",
    "\n",
    "input_sent = input_sent.replace('x', str(n[0]))\n",
    "\n",
    "cal = eval(input_sent) == n[1]\n",
    "print(cal)"
   ]
  },
  {
   "cell_type": "markdown",
   "metadata": {},
   "source": [
    "## 03. Python Evaluation"
   ]
  },
  {
   "cell_type": "code",
   "execution_count": 39,
   "metadata": {},
   "outputs": [
    {
     "name": "stdout",
     "output_type": "stream",
     "text": [
      "print(2+3)\n",
      "5\n"
     ]
    }
   ],
   "source": [
    "n = input()\n",
    "\n",
    "eval(n)"
   ]
  },
  {
   "cell_type": "markdown",
   "metadata": {},
   "source": [
    "## 04. Athlete Sort"
   ]
  },
  {
   "cell_type": "code",
   "execution_count": 38,
   "metadata": {},
   "outputs": [
    {
     "name": "stdout",
     "output_type": "stream",
     "text": [
      "5 3\n",
      "10 2 5\n",
      "7 1 0\n",
      "9 9 9\n",
      "1 23 12\n",
      "6 5 9\n",
      "1\n",
      "7 1 0 \n",
      "10 2 5 \n",
      "6 5 9 \n",
      "9 9 9 \n",
      "1 23 12 \n"
     ]
    }
   ],
   "source": [
    "from operator import itemgetter\n",
    "\n",
    "nm = list(map(int, input().split()))\n",
    "ath_list = []\n",
    "\n",
    "for i in range(nm[0]):\n",
    "    ath_list.append(list(map(int, input().split())))\n",
    "\n",
    "key_num = int(input())\n",
    "\n",
    "\n",
    "ath_list = sorted(ath_list, key=itemgetter(key_num))\n",
    "for ath in ath_list:\n",
    "    for j in range(len(ath)):\n",
    "        print(ath[j], end=' ')\n",
    "    print()"
   ]
  },
  {
   "cell_type": "markdown",
   "metadata": {},
   "source": [
    "## 05. Any or All"
   ]
  },
  {
   "cell_type": "code",
   "execution_count": 4,
   "metadata": {},
   "outputs": [
    {
     "name": "stdout",
     "output_type": "stream",
     "text": [
      "5\n",
      "12 9 61 5 -4\n",
      "False\n"
     ]
    }
   ],
   "source": [
    "n = int(input())\n",
    "num_list = list(map(int, input().split()))\n",
    "\n",
    "con1 = []\n",
    "con2 = []\n",
    "\n",
    "for num in num_list:\n",
    "    con1.append(num>0)\n",
    "    \n",
    "if all(con1):\n",
    "    for num in num_list:\n",
    "        con2.append(num == int(''.join(reversed(str(num)))))\n",
    "    print(any(con2))\n",
    "else:\n",
    "    print(False)"
   ]
  },
  {
   "cell_type": "markdown",
   "metadata": {
    "collapsed": true
   },
   "source": [
    "## 06. ginortS"
   ]
  },
  {
   "cell_type": "code",
   "execution_count": 64,
   "metadata": {},
   "outputs": [
    {
     "name": "stdout",
     "output_type": "stream",
     "text": [
      "ginortS1324\n"
     ]
    }
   ],
   "source": [
    "s = input()\n",
    "\n",
    "lower = ''\n",
    "upper = ''\n",
    "odd = ''\n",
    "even = ''\n",
    "\n",
    "for i in sorted(list(s)):\n",
    "    if i.isalpha():\n",
    "        if i.islower():\n",
    "            lower += i\n",
    "        else:\n",
    "            upper += i\n",
    "    \n",
    "    if i.isdigit():\n",
    "        if int(i) % 2 == 0:\n",
    "            even += i\n",
    "        else:\n",
    "            odd += i\n",
    "            \n",
    "result = lower + upper + odd + even\n",
    "        \n",
    "print(result)"
   ]
  }
 ],
 "metadata": {
  "kernelspec": {
   "display_name": "Python 3",
   "language": "python",
   "name": "python3"
  },
  "language_info": {
   "codemirror_mode": {
    "name": "ipython",
    "version": 3
   },
   "file_extension": ".py",
   "mimetype": "text/x-python",
   "name": "python",
   "nbconvert_exporter": "python",
   "pygments_lexer": "ipython3",
   "version": "3.7.4"
  }
 },
 "nbformat": 4,
 "nbformat_minor": 2
}
